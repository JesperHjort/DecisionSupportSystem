{
 "cells": [
  {
   "cell_type": "markdown",
   "metadata": {},
   "source": [
    "# 5.3.4 The Bootstrap"
   ]
  },
  {
   "cell_type": "markdown",
   "metadata": {},
   "source": [
    "Load modules and data"
   ]
  },
  {
   "cell_type": "code",
   "execution_count": 4,
   "metadata": {
    "collapsed": true
   },
   "outputs": [],
   "source": [
    "import numpy as np\n",
    "import pandas as pd\n",
    "\n",
    "import statsmodels.formula.api as smf\n",
    "import statsmodels.api as sm\n",
    "import matplotlib.pyplot as plt\n",
    "\n",
    "Portfolio = pd.read_csv('Portfolio.csv')\n",
    "Boston = pd.read_csv('Boston.csv')\n",
    "Auto = pd.read_csv('Auto.csv',usecols=list([0, 3]))\n",
    "Auto = Auto[Auto.horsepower !=\"?\"]\n",
    "s = pd.Series(Auto.horsepower)\n",
    "Auto.horsepower=pd.to_numeric(s,downcast='float')"
   ]
  },
  {
   "cell_type": "markdown",
   "metadata": {},
   "source": [
    "Load predefined functions"
   ]
  },
  {
   "cell_type": "code",
   "execution_count": 5,
   "metadata": {
    "collapsed": false
   },
   "outputs": [],
   "source": [
    "# Custom made covariance to avoid a complete covariance matrix\n",
    "def cov(x, y):\n",
    "    x_mean = np.mean(x)\n",
    "    y_mean = np.mean(y)\n",
    "    data = [(x[i] - x_mean) * (y[i] - y_mean)\n",
    "            for i in range(len(x))]\n",
    "    return sum(data) / (len(data) - 1)\n",
    "#############################################################################\n",
    "# Apha function for first part of the lap\n",
    "def alpha_func(data, index):\n",
    "    X = data.X[index]\n",
    "    Y = data.Y[index]\n",
    " \n",
    "    alpha = ((np.var(Y)-np.cov(X,Y,bias=True))[0,1]/(np.var(X)+np.var(Y) -2*np.cov(X,Y,bias=True)[0,1]))\n",
    "    return alpha\n",
    "# Random sampler n times with data range\n",
    "def resample_(data, n=None):\n",
    "    if n == None:\n",
    "        n = len(X)\n",
    "        \n",
    "    resample_i = np.floor(np.random.rand(n)*len(data)).astype(int)\n",
    "    return resample_i\n",
    "#############################################################################\n",
    "# Boot function for simple linear regression model on auto data\n",
    "def boot_func_lin(data, index):\n",
    "    lm = sm.OLS.from_formula('mpg ~ horsepower', data, subset=index)\n",
    "    lm_fit = lm.fit()\n",
    "    return [lm_fit.params[0],lm_fit.params[1]]\n",
    "#############################################################################\n",
    "# Boot function for multiple linear regression model on auto data\n",
    "def boot_func_lin2(data, index):\n",
    "    lm = sm.OLS.from_formula('mpg ~ horsepower+ I(horsepower**2)', data, subset=index)\n",
    "    lm_fit = lm.fit()\n",
    "    return [lm_fit.params[0],lm_fit.params[1],lm_fit.params[2]]\n",
    "#############################################################################\n",
    "# Boot function for simple linear regression model on Boston data\n",
    "def boot_func_lin3(data, index):\n",
    "    lm = sm.OLS.from_formula('medv ~ lstat', data, subset=index)\n",
    "    lm_fit = lm.fit()\n",
    "    return [lm_fit.params[0],lm_fit.params[1]]"
   ]
  },
  {
   "cell_type": "markdown",
   "metadata": {},
   "source": [
    "Calculate baseline statistics for Portfolio data set"
   ]
  },
  {
   "cell_type": "code",
   "execution_count": 6,
   "metadata": {
    "collapsed": false
   },
   "outputs": [
    {
     "name": "stdout",
     "output_type": "stream",
     "text": [
      "0.576276248383\n"
     ]
    }
   ],
   "source": [
    "alpha_orig = alpha_func(Portfolio,range(0,99))\n",
    "print(np.mean(alpha_orig))"
   ]
  },
  {
   "cell_type": "markdown",
   "metadata": {},
   "source": [
    "Calculate statistics for Portfolio dataset using 100 random selected data"
   ]
  },
  {
   "cell_type": "code",
   "execution_count": 7,
   "metadata": {
    "collapsed": false
   },
   "outputs": [
    {
     "name": "stdout",
     "output_type": "stream",
     "text": [
      "0.248181050048\n"
     ]
    }
   ],
   "source": [
    "N = 100\n",
    "alpha_ = alpha_func(Portfolio,resample_(Portfolio,N))\n",
    "\n",
    "print(np.mean(alpha_))"
   ]
  },
  {
   "cell_type": "markdown",
   "metadata": {},
   "source": [
    "Calculate SLR statistics for Portfolio dataset using 1000 random selected data"
   ]
  },
  {
   "cell_type": "code",
   "execution_count": 8,
   "metadata": {
    "collapsed": false
   },
   "outputs": [
    {
     "name": "stdout",
     "output_type": "stream",
     "text": [
      "0.578229754378\n",
      "0.086200460829\n",
      "0.00195350599434\n"
     ]
    }
   ],
   "source": [
    "data = Portfolio\n",
    "N_set = 1000\n",
    "n_sample = len(data)\n",
    "\n",
    "alpha_  = np.zeros((N_set,1)) \n",
    "\n",
    "for i in range(0,N_set):\n",
    "    alpha_[i] = alpha_func(Portfolio,resample_(Portfolio,n_sample))\n",
    "\n",
    "    \n",
    "print(np.mean(alpha_))\n",
    "print(np.std(alpha_))\n",
    "print(np.mean(alpha_)-alpha_orig)"
   ]
  },
  {
   "cell_type": "markdown",
   "metadata": {},
   "source": [
    "## Auto data set analysis"
   ]
  },
  {
   "cell_type": "markdown",
   "metadata": {},
   "source": [
    "Calculate baseline statistics for Auto data set for both SLR and MLR"
   ]
  },
  {
   "cell_type": "code",
   "execution_count": 9,
   "metadata": {
    "collapsed": false
   },
   "outputs": [
    {
     "name": "stdout",
     "output_type": "stream",
     "text": [
      "Single run using all data and one predictor\n",
      "[Coefficients - Intercept Horsepower]\n",
      "[39.709923672736977, -0.15628425943517577]\n",
      "\n",
      "Single run using all data and two predictor\n",
      "[Coefficients - Intercept Horsepower Horsepower^2]\n",
      "[56.447212048217068, -0.46004758929267719, 0.0012108478168661979]\n"
     ]
    }
   ],
   "source": [
    "beta_orig = boot_func_lin(Auto,range(0,391))\n",
    "print(\"Single run using all data and one predictor\")\n",
    "print(\"[Coefficients - Intercept Horsepower]\")\n",
    "print(beta_orig)\n",
    "\n",
    "beta_orig_2 = boot_func_lin2(Auto,range(0,391))\n",
    "print(\"\\nSingle run using all data and two predictor\")\n",
    "print(\"[Coefficients - Intercept Horsepower Horsepower^2]\")\n",
    "print(beta_orig_2)\n"
   ]
  },
  {
   "cell_type": "markdown",
   "metadata": {},
   "source": [
    "Calculate SLR statistics for Auto dataset using 2 random selected data"
   ]
  },
  {
   "cell_type": "code",
   "execution_count": 10,
   "metadata": {
    "collapsed": false
   },
   "outputs": [
    {
     "name": "stdout",
     "output_type": "stream",
     "text": [
      "Random run 1\n",
      "[Coefficients - Intercept Horsepower]\n",
      "[40.223973037816343, -0.15927454315591671]\n",
      "[Biased - Intercept Horsepower]\n",
      "[0.51404936507936583, -0.0029902837207409494]\n"
     ]
    }
   ],
   "source": [
    "# Part 2.2) Random 2 times action on Auto data\n",
    "n_sample = len(Auto)\n",
    "x = resample_(Auto, n_sample)\n",
    "beta_ = boot_func_lin(Auto,x)\n",
    "print(\"Random run 1\")\n",
    "print(\"[Coefficients - Intercept Horsepower]\")\n",
    "print(beta_)\n",
    "print(\"[Biased - Intercept Horsepower]\")\n",
    "print([beta_[0]-beta_orig[0],beta_[1]-beta_orig[1]])"
   ]
  },
  {
   "cell_type": "markdown",
   "metadata": {},
   "source": [
    "Calculate SLR statistics for Auto dataset using 1000 random selected data"
   ]
  },
  {
   "cell_type": "code",
   "execution_count": 11,
   "metadata": {
    "collapsed": false,
    "scrolled": true
   },
   "outputs": [
    {
     "name": "stdout",
     "output_type": "stream",
     "text": [
      "Mean values for N_set runs\n",
      "\n",
      "[Coefficients - Intercept Horsepower]\n",
      "[39.754797579966876, -0.15680077898154085]\n",
      "\n",
      "[Std. Error - Intercept Horsepower]\n",
      "[0.82942105099398067, 0.0072556225087268608]\n",
      "\n",
      "[Biased - Intercept Horsepower]\n",
      "[0.044873907229899146, -0.00051651954636508512]\n"
     ]
    }
   ],
   "source": [
    "# Part 2.3) Random N_set times action on Auto data\n",
    "N_set = 1000\n",
    "n_sample = len(Auto)\n",
    "\n",
    "beta_  = np.zeros((N_set,2)) \n",
    "\n",
    "for i in range(0,N_set):\n",
    "    x = resample_(Auto, n_sample)\n",
    "    beta_[i] = boot_func_lin(Auto, x)\n",
    "print(\"Mean values for N_set runs\\n\")\n",
    "print(\"[Coefficients - Intercept Horsepower]\")\n",
    "print([np.mean(beta_[:,0]), np.mean(beta_[:,1])])\n",
    "print(\"\\n[Std. Error - Intercept Horsepower]\")\n",
    "print([np.std(beta_[:,0]), np.std(beta_[:,1])])\n",
    "print(\"\\n[Biased - Intercept Horsepower]\")\n",
    "print([np.mean(beta_[:,0])-beta_orig[0],np.mean(beta_[:,1])-beta_orig[1]])"
   ]
  },
  {
   "cell_type": "markdown",
   "metadata": {},
   "source": [
    "Calculate MLR statistics for Auto dataset using 1000 random selected data"
   ]
  },
  {
   "cell_type": "code",
   "execution_count": 12,
   "metadata": {
    "collapsed": false
   },
   "outputs": [
    {
     "name": "stdout",
     "output_type": "stream",
     "text": [
      "Mean values for N_set runs using 2 predictors\n",
      "\n",
      "[Coefficients - Intercept Horsepower Horsepower^2]\n",
      "[56.475229595537158, -0.46055751934568573, 0.0012128802274402233]\n",
      "\n",
      "[Std. Error - Intercept Horsepower Horsepower^2]\n",
      "[2.0484726645733775, 0.032580012975744345, 0.00011781519343417369]\n",
      "\n",
      "[Biased - Intercept Horsepower  Horsepower^2]\n",
      "[0.028017547320089875, -0.00050993005300853378, 2.0324105740254176e-06]\n"
     ]
    }
   ],
   "source": [
    "N_set = 1000\n",
    "n_sample = len(Auto)\n",
    "\n",
    "beta_  = np.zeros((N_set,3)) \n",
    "\n",
    "for i in range(0,N_set):\n",
    "    x = resample_(Auto, n_sample)\n",
    "    beta_[i] = boot_func_lin2(Auto, x)\n",
    "print(\"Mean values for N_set runs using 2 predictors\\n\")\n",
    "print(\"[Coefficients - Intercept Horsepower Horsepower^2]\")\n",
    "print([np.mean(beta_[:,0]), np.mean(beta_[:,1]), np.mean(beta_[:,2])])\n",
    "print(\"\\n[Std. Error - Intercept Horsepower Horsepower^2]\")\n",
    "print([np.std(beta_[:,0]), np.std(beta_[:,1]), np.std(beta_[:,2])])\n",
    "print(\"\\n[Biased - Intercept Horsepower  Horsepower^2]\")\n",
    "print([np.mean(beta_[:,0])-beta_orig_2[0],np.mean(beta_[:,1])-beta_orig_2[1],np.mean(beta_[:,2])-beta_orig_2[2]])"
   ]
  },
  {
   "cell_type": "markdown",
   "metadata": {},
   "source": [
    "## Boston data set analysis\n",
    "Calculate baseline statistics for Boston data set for both SLR"
   ]
  },
  {
   "cell_type": "code",
   "execution_count": 13,
   "metadata": {
    "collapsed": false
   },
   "outputs": [
    {
     "name": "stdout",
     "output_type": "stream",
     "text": [
      "[34.553840879383117, -0.9500493537579906]\n"
     ]
    }
   ],
   "source": [
    "beta_orig = boot_func_lin3(Boston,range(0,len(Boston)))\n",
    "print(beta_orig)"
   ]
  },
  {
   "cell_type": "markdown",
   "metadata": {},
   "source": [
    "Calculate SLR statistics for Boston dataset using 1000 random selected data"
   ]
  },
  {
   "cell_type": "code",
   "execution_count": 14,
   "metadata": {
    "collapsed": false
   },
   "outputs": [
    {
     "name": "stdout",
     "output_type": "stream",
     "text": [
      "Mean values for N_set runs\n",
      "\n",
      "[Coefficients - Intercept lstat]\n",
      "[34.522661445627527, -0.94835769366940226]\n",
      "\n",
      "[Std. Error - Intercept lstat]\n",
      "[0.76530147996889031, 0.050466611343629814]\n",
      "\n",
      "[Biased - Intercept lstat]\n",
      "[-0.031179433755589514, 0.0016916600885883426]\n"
     ]
    }
   ],
   "source": [
    "N_set = 1000\n",
    "n_sample = len(Boston)\n",
    "\n",
    "beta_  = np.zeros((N_set,2)) \n",
    "\n",
    "for i in range(0,N_set):\n",
    "    x = resample_(Boston, n_sample)\n",
    "    beta_[i] = boot_func_lin3(Boston, x)\n",
    "print(\"Mean values for N_set runs\\n\")\n",
    "print(\"[Coefficients - Intercept lstat]\")\n",
    "print([np.mean(beta_[:,0]), np.mean(beta_[:,1])])\n",
    "print(\"\\n[Std. Error - Intercept lstat]\")\n",
    "print([np.std(beta_[:,0]), np.std(beta_[:,1])])\n",
    "print(\"\\n[Biased - Intercept lstat]\")\n",
    "print([np.mean(beta_[:,0])-beta_orig[0],np.mean(beta_[:,1])-beta_orig[1]])"
   ]
  },
  {
   "cell_type": "markdown",
   "metadata": {},
   "source": [
    "Plot histogram for boston bootstrap coefficients"
   ]
  },
  {
   "cell_type": "code",
   "execution_count": 15,
   "metadata": {
    "collapsed": false
   },
   "outputs": [
    {
     "data": {
      "image/png": "[encoded data removed]",
      "text/plain": [
       "<matplotlib.figure.Figure at 0xc1c4ac8>"
      ]
     },
     "metadata": {},
     "output_type": "display_data"
    },
    {
     "data": {
      "image/png": "[encoded data removed]",
      "text/plain": [
       "<matplotlib.figure.Figure at 0x208d208>"
      ]
     },
     "metadata": {},
     "output_type": "display_data"
    }
   ],
   "source": [
    "a = np.hstack(beta_[:,0])\n",
    "plt.hist(a, bins='auto')  # plt.hist passes it's arguments to np.histogram\n",
    "plt.title(\"Histogram for B1 coefficient\")\n",
    "plt.hold\n",
    "plt.plot([np.mean(beta_[:,0]), np.mean(beta_[:,0])],[0, np.max(120)],'k')\n",
    "plt.ylim([0,120])\n",
    "plt.legend(['Mean Coefficent','Distribution'])\n",
    "plt.show()\n",
    "\n",
    "a = np.hstack(beta_[:,1])\n",
    "plt.hist(a, bins='auto')  # plt.hist passes it's arguments to np.histogram\n",
    "plt.title(\"Histogram for B2 coefficient\")\n",
    "plt.hold\n",
    "plt.plot([np.mean(beta_[:,1]), np.mean(beta_[:,1])],[0, np.max(130)],'k')\n",
    "\n",
    "plt.ylim([0,130])\n",
    "plt.legend(['Mean Coefficent','Distribution'])\n",
    "plt.show()\n",
    "\n",
    "\n"
   ]
  }
 ],
 "metadata": {
  "kernelspec": {
   "display_name": "Python 2",
   "language": "python",
   "name": "python2"
  },
  "language_info": {
   "codemirror_mode": {
    "name": "ipython",
    "version": 2
   },
   "file_extension": ".py",
   "mimetype": "text/x-python",
   "name": "python",
   "nbconvert_exporter": "python",
   "pygments_lexer": "ipython2",
   "version": "2.7.13"
  }
 },
 "nbformat": 4,
 "nbformat_minor": 2
}
