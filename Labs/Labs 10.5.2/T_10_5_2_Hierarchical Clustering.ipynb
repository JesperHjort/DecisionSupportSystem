{
 "cells": [
  {
   "cell_type": "code",
   "execution_count": null,
   "metadata": {
    "collapsed": true
   },
   "outputs": [],
   "source": [
    "import sys, random\n",
    "import matplotlib.pyplot as plt\n",
    "import numpy as np\n",
    "from rpy2 import robjects\n",
    "import hm_utils as hm\n",
    "random.seed(153)\n",
    "\n",
    "matrix = robjects.r['matrix']\n",
    "hclust = robjects.r['hclust']\n",
    "dist = robjects.r['dist']\n",
    "\n",
    "\n",
    "# convert to R 'matrix' and cluster\n",
    "A = list(hm.flatten(A))\n",
    "M = matrix(A,nrow=R)\n",
    "d = dist(M, method='euclidean')\n",
    "result = hclust(d,method='average')\n",
    "o = result[2]     # order\n",
    "\n",
    "\n",
    "def to_array(M,R,C):\n",
    "    A = np.array(list(M))\n",
    "    A.shape = R,C\n",
    "    return A"
   ]
  }
 ],
 "metadata": {
  "kernelspec": {
   "display_name": "Python 2",
   "language": "python",
   "name": "python2"
  },
  "language_info": {
   "codemirror_mode": {
    "name": "ipython",
    "version": 2
   },
   "file_extension": ".py",
   "mimetype": "text/x-python",
   "name": "python",
   "nbconvert_exporter": "python",
   "pygments_lexer": "ipython2",
   "version": "2.7.13"
  }
 },
 "nbformat": 4,
 "nbformat_minor": 2
}
