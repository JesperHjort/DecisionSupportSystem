{
 "cells": [
  {
   "cell_type": "markdown",
   "metadata": {},
   "source": [
    "# The Validation Set Approach"
   ]
  },
  {
   "cell_type": "markdown",
   "metadata": {},
   "source": [
    "In this lab we explore the use of the validation set approach in order to estimate the test error rates that result from fitting various linear models on the Auto data set."
   ]
  },
  {
   "cell_type": "code",
   "execution_count": 68,
   "metadata": {
    "collapsed": false
   },
   "outputs": [],
   "source": [
    "import numpy as np\n",
    "import matplotlib.pyplot as plt\n",
    "from sklearn.pipeline import Pipeline\n",
    "from sklearn.preprocessing import PolynomialFeatures\n",
    "from sklearn.linear_model import LinearRegression\n",
    "from sklearn.model_selection import cross_val_score\n",
    "\n",
    "%matplotlib inline\n",
    "\n",
    "auto = pd.read_csv('Auto.csv', na_values='?').dropna()"
   ]
  },
  {
   "cell_type": "code",
   "execution_count": 82,
   "metadata": {
    "collapsed": false
   },
   "outputs": [
    {
     "data": {
      "text/plain": [
       "<matplotlib.text.Text at 0x7f419862ab38>"
      ]
     },
     "execution_count": 82,
     "metadata": {},
     "output_type": "execute_result"
    },
    {
     "data": {
      "image/png": "[encoded data removed]",
      "text/plain": [
       "<matplotlib.figure.Figure at 0x7f4198e30da0>"
      ]
     },
     "metadata": {},
     "output_type": "display_data"
    }
   ],
   "source": [
    "train, test = train_test_split(Auto,train_size=0.50,random_state=14)\n",
    "\n",
    "# Make a list for storing cross validation scores (mean squared errors)\n",
    "scores = list()\n",
    "\n",
    "# Make a list of polynomial orders (from 1 to 10)\n",
    "degrees = np.arange(1,11)\n",
    "\n",
    "# Iterate through the different polynomial orders\n",
    "for i in range(len(degrees)):\n",
    "    \n",
    "    polynomial_features = PolynomialFeatures(degree=degrees[i],\n",
    "                                             include_bias=False)\n",
    "\n",
    "    linear_regression = LinearRegression()\n",
    "    pipeline = Pipeline([(\"polynomial_features\", polynomial_features),\n",
    "                         (\"linear_regression\", linear_regression)])\n",
    "    pipeline.fit(train.horsepower.values.reshape(-1,1), train.mpg.values.reshape(-1,1))\n",
    "       \n",
    "    predictions = pipeline.predict(test.horsepower.values.reshape(-1,1))\n",
    "    \n",
    "    # Calculate the mean squared error via cross validation (using the LeaveOneOut() object)\n",
    "    score = mean_squared_error(test.mpg, predictions)\n",
    "    scores.append(score)\n",
    "    \n",
    "    \n",
    "    \n",
    "\n",
    "# Plot the MSE vs. polynomial degree\n",
    "plt.plot(degrees,scores,'-o')\n",
    "plt.xlabel('Polynomial Degree')\n",
    "plt.ylabel('Mean Squared Error')\n",
    "plt.savefig('validationSet.png', dpi=200)\n",
    "plt.title('The Validation Set Approach')"
   ]
  },
  {
   "cell_type": "code",
   "execution_count": null,
   "metadata": {
    "collapsed": true
   },
   "outputs": [],
   "source": []
  }
 ],
 "metadata": {
  "kernelspec": {
   "display_name": "Python 3",
   "language": "python",
   "name": "python3"
  },
  "language_info": {
   "codemirror_mode": {
    "name": "ipython",
    "version": 3
   },
   "file_extension": ".py",
   "mimetype": "text/x-python",
   "name": "python",
   "nbconvert_exporter": "python",
   "pygments_lexer": "ipython3",
   "version": "3.6.0"
  }
 },
 "nbformat": 4,
 "nbformat_minor": 2
}
