{
 "cells": [
  {
   "cell_type": "code",
   "execution_count": 29,
   "metadata": {
    "collapsed": true
   },
   "outputs": [],
   "source": [
    "import numpy as np\n",
    "import pandas as pd\n",
    "\n",
    "import statsmodels.formula.api as smf\n",
    "from patsy import dmatrices\n",
    "from statsmodels.stats.outliers_influence import variance_inflation_factor\n"
   ]
  },
  {
   "cell_type": "code",
   "execution_count": 4,
   "metadata": {
    "collapsed": true
   },
   "outputs": [],
   "source": [
    "# Load data\n",
    "boston = pd.read_csv('../../DataSets/Boston.csv')"
   ]
  },
  {
   "cell_type": "code",
   "execution_count": 6,
   "metadata": {
    "collapsed": false
   },
   "outputs": [
    {
     "name": "stdout",
     "output_type": "stream",
     "text": [
      "                            OLS Regression Results                            \n",
      "==============================================================================\n",
      "Dep. Variable:                   medv   R-squared:                       0.551\n",
      "Model:                            OLS   Adj. R-squared:                  0.549\n",
      "Method:                 Least Squares   F-statistic:                     309.0\n",
      "Date:                Tue, 25 Apr 2017   Prob (F-statistic):           2.98e-88\n",
      "Time:                        16:12:23   Log-Likelihood:                -1637.5\n",
      "No. Observations:                 506   AIC:                             3281.\n",
      "Df Residuals:                     503   BIC:                             3294.\n",
      "Df Model:                           2                                         \n",
      "Covariance Type:            nonrobust                                         \n",
      "==============================================================================\n",
      "                 coef    std err          t      P>|t|      [95.0% Conf. Int.]\n",
      "------------------------------------------------------------------------------\n",
      "Intercept     33.2228      0.731     45.458      0.000        31.787    34.659\n",
      "lstat         -1.0321      0.048    -21.416      0.000        -1.127    -0.937\n",
      "age            0.0345      0.012      2.826      0.005         0.011     0.059\n",
      "==============================================================================\n",
      "Omnibus:                      124.288   Durbin-Watson:                   0.945\n",
      "Prob(Omnibus):                  0.000   Jarque-Bera (JB):              244.026\n",
      "Skew:                           1.362   Prob(JB):                     1.02e-53\n",
      "Kurtosis:                       5.038   Cond. No.                         201.\n",
      "==============================================================================\n",
      "\n",
      "Warnings:\n",
      "[1] Standard Errors assume that the covariance matrix of the errors is correctly specified.\n"
     ]
    }
   ],
   "source": [
    "# Fit medv vs lstat + age\n",
    "fit_res = smf.ols('medv ~ lstat + age', boston).fit()\n",
    "print(fit_res.summary())"
   ]
  },
  {
   "cell_type": "code",
   "execution_count": 26,
   "metadata": {
    "collapsed": false
   },
   "outputs": [
    {
     "name": "stdout",
     "output_type": "stream",
     "text": [
      "                            OLS Regression Results                            \n",
      "==============================================================================\n",
      "Dep. Variable:                   medv   R-squared:                       0.741\n",
      "Model:                            OLS   Adj. R-squared:                  0.734\n",
      "Method:                 Least Squares   F-statistic:                     108.1\n",
      "Date:                Tue, 25 Apr 2017   Prob (F-statistic):          6.72e-135\n",
      "Time:                        16:41:40   Log-Likelihood:                -1498.8\n",
      "No. Observations:                 506   AIC:                             3026.\n",
      "Df Residuals:                     492   BIC:                             3085.\n",
      "Df Model:                          13                                         \n",
      "Covariance Type:            nonrobust                                         \n",
      "==============================================================================\n",
      "                 coef    std err          t      P>|t|      [95.0% Conf. Int.]\n",
      "------------------------------------------------------------------------------\n",
      "Intercept     36.4595      5.103      7.144      0.000        26.432    46.487\n",
      "crim          -0.1080      0.033     -3.287      0.001        -0.173    -0.043\n",
      "zn             0.0464      0.014      3.382      0.001         0.019     0.073\n",
      "indus          0.0206      0.061      0.334      0.738        -0.100     0.141\n",
      "chas           2.6867      0.862      3.118      0.002         0.994     4.380\n",
      "nox          -17.7666      3.820     -4.651      0.000       -25.272   -10.262\n",
      "rm             3.8099      0.418      9.116      0.000         2.989     4.631\n",
      "age            0.0007      0.013      0.052      0.958        -0.025     0.027\n",
      "dis           -1.4756      0.199     -7.398      0.000        -1.867    -1.084\n",
      "rad            0.3060      0.066      4.613      0.000         0.176     0.436\n",
      "tax           -0.0123      0.004     -3.280      0.001        -0.020    -0.005\n",
      "ptratio       -0.9527      0.131     -7.283      0.000        -1.210    -0.696\n",
      "black          0.0093      0.003      3.467      0.001         0.004     0.015\n",
      "lstat         -0.5248      0.051    -10.347      0.000        -0.624    -0.425\n",
      "==============================================================================\n",
      "Omnibus:                      178.041   Durbin-Watson:                   1.078\n",
      "Prob(Omnibus):                  0.000   Jarque-Bera (JB):              783.126\n",
      "Skew:                           1.521   Prob(JB):                    8.84e-171\n",
      "Kurtosis:                       8.281   Cond. No.                     1.51e+04\n",
      "==============================================================================\n",
      "\n",
      "Warnings:\n",
      "[1] Standard Errors assume that the covariance matrix of the errors is correctly specified.\n",
      "[2] The condition number is large, 1.51e+04. This might indicate that there are\n",
      "strong multicollinearity or other numerical problems.\n"
     ]
    }
   ],
   "source": [
    "# Perform multiple regression with all variables as predictors (exept of course \"medv\")\n",
    "\n",
    "all_columns = \"+\".join(boston.columns.drop(\"medv\"))\n",
    "my_string = \"medv ~ \" + all_columns\n",
    "\n",
    "fit_res = smf.ols(my_string, boston).fit()\n",
    "\n",
    "print(fit_res.summary())\n",
    "      "
   ]
  },
  {
   "cell_type": "code",
   "execution_count": 33,
   "metadata": {
    "collapsed": false
   },
   "outputs": [
    {
     "name": "stdout",
     "output_type": "stream",
     "text": [
      "                            OLS Regression Results                            \n",
      "==============================================================================\n",
      "Dep. Variable:                   medv   R-squared:                       0.741\n",
      "Model:                            OLS   Adj. R-squared:                  0.734\n",
      "Method:                 Least Squares   F-statistic:                     117.3\n",
      "Date:                Tue, 25 Apr 2017   Prob (F-statistic):          6.08e-136\n",
      "Time:                        17:28:08   Log-Likelihood:                -1498.8\n",
      "No. Observations:                 506   AIC:                             3024.\n",
      "Df Residuals:                     493   BIC:                             3079.\n",
      "Df Model:                          12                                         \n",
      "Covariance Type:            nonrobust                                         \n",
      "==============================================================================\n",
      "                 coef    std err          t      P>|t|      [95.0% Conf. Int.]\n",
      "------------------------------------------------------------------------------\n",
      "Intercept     36.4369      5.080      7.172      0.000        26.456    46.418\n",
      "crim          -0.1080      0.033     -3.290      0.001        -0.173    -0.043\n",
      "zn             0.0463      0.014      3.404      0.001         0.020     0.073\n",
      "indus          0.0206      0.061      0.335      0.738        -0.100     0.141\n",
      "chas           2.6890      0.860      3.128      0.002         1.000     4.378\n",
      "nox          -17.7135      3.679     -4.814      0.000       -24.943   -10.484\n",
      "rm             3.8144      0.408      9.338      0.000         3.012     4.617\n",
      "dis           -1.4786      0.191     -7.757      0.000        -1.853    -1.104\n",
      "rad            0.3058      0.066      4.627      0.000         0.176     0.436\n",
      "tax           -0.0123      0.004     -3.283      0.001        -0.020    -0.005\n",
      "ptratio       -0.9522      0.130     -7.308      0.000        -1.208    -0.696\n",
      "black          0.0093      0.003      3.481      0.001         0.004     0.015\n",
      "lstat         -0.5239      0.048    -10.999      0.000        -0.617    -0.430\n",
      "==============================================================================\n",
      "Omnibus:                      178.343   Durbin-Watson:                   1.078\n",
      "Prob(Omnibus):                  0.000   Jarque-Bera (JB):              786.386\n",
      "Skew:                           1.523   Prob(JB):                    1.73e-171\n",
      "Kurtosis:                       8.294   Cond. No.                     1.48e+04\n",
      "==============================================================================\n",
      "\n",
      "Warnings:\n",
      "[1] Standard Errors assume that the covariance matrix of the errors is correctly specified.\n",
      "[2] The condition number is large, 1.48e+04. This might indicate that there are\n",
      "strong multicollinearity or other numerical problems.\n"
     ]
    }
   ],
   "source": [
    "# We now omit age since it has a large p-value\n",
    "\n",
    "all_columns = \"+\".join(boston.columns.drop([\"medv\",\"age\"]))\n",
    "my_formula = \"medv ~ \" + all_columns\n",
    "\n",
    "fit_res = smf.ols(my_formula, boston).fit()\n",
    "\n",
    "print(fit_res.summary())"
   ]
  },
  {
   "cell_type": "code",
   "execution_count": 94,
   "metadata": {
    "collapsed": false
   },
   "outputs": [
    {
     "name": "stdout",
     "output_type": "stream",
     "text": [
      "                            OLS Regression Results                            \n",
      "==============================================================================\n",
      "Dep. Variable:                   medv   R-squared:                       0.741\n",
      "Model:                            OLS   Adj. R-squared:                  0.735\n",
      "Method:                 Least Squares   F-statistic:                     128.2\n",
      "Date:                Tue, 25 Apr 2017   Prob (F-statistic):          5.54e-137\n",
      "Time:                        18:08:22   Log-Likelihood:                -1498.9\n",
      "No. Observations:                 506   AIC:                             3022.\n",
      "Df Residuals:                     494   BIC:                             3072.\n",
      "Df Model:                          11                                         \n",
      "Covariance Type:            nonrobust                                         \n",
      "==============================================================================\n",
      "                 coef    std err          t      P>|t|      [95.0% Conf. Int.]\n",
      "------------------------------------------------------------------------------\n",
      "Intercept     36.3411      5.067      7.171      0.000        26.385    46.298\n",
      "crim          -0.1084      0.033     -3.307      0.001        -0.173    -0.044\n",
      "zn             0.0458      0.014      3.390      0.001         0.019     0.072\n",
      "chas           2.7187      0.854      3.183      0.002         1.040     4.397\n",
      "nox          -17.3760      3.535     -4.915      0.000       -24.322   -10.430\n",
      "rm             3.8016      0.406      9.356      0.000         3.003     4.600\n",
      "dis           -1.4927      0.186     -8.037      0.000        -1.858    -1.128\n",
      "rad            0.2996      0.063      4.726      0.000         0.175     0.424\n",
      "tax           -0.0118      0.003     -3.493      0.001        -0.018    -0.005\n",
      "ptratio       -0.9465      0.129     -7.334      0.000        -1.200    -0.693\n",
      "black          0.0093      0.003      3.475      0.001         0.004     0.015\n",
      "lstat         -0.5226      0.047    -11.019      0.000        -0.616    -0.429\n",
      "==============================================================================\n",
      "Omnibus:                      178.430   Durbin-Watson:                   1.078\n",
      "Prob(Omnibus):                  0.000   Jarque-Bera (JB):              787.785\n",
      "Skew:                           1.523   Prob(JB):                    8.60e-172\n",
      "Kurtosis:                       8.300   Cond. No.                     1.47e+04\n",
      "==============================================================================\n",
      "\n",
      "Warnings:\n",
      "[1] Standard Errors assume that the covariance matrix of the errors is correctly specified.\n",
      "[2] The condition number is large, 1.47e+04. This might indicate that there are\n",
      "strong multicollinearity or other numerical problems.\n"
     ]
    }
   ],
   "source": [
    "# And indus...\n",
    "\n",
    "all_columns = \"+\".join(boston.columns.drop([\"medv\",\"age\",\"indus\"]))\n",
    "my_formula = \"medv ~ \" + all_columns\n",
    "\n",
    "\n",
    "fit_res = smf.ols(my_formula, boston).fit()\n",
    "\n",
    "print(fit_res.summary())"
   ]
  },
  {
   "cell_type": "code",
   "execution_count": 98,
   "metadata": {
    "collapsed": false
   },
   "outputs": [
    {
     "data": {
      "text/html": [
       "<div>\n",
       "<table border=\"1\" class=\"dataframe\">\n",
       "  <thead>\n",
       "    <tr style=\"text-align: right;\">\n",
       "      <th></th>\n",
       "      <th>intercept</th>\n",
       "      <th>crim</th>\n",
       "      <th>zn</th>\n",
       "      <th>indus</th>\n",
       "      <th>chas</th>\n",
       "      <th>nox</th>\n",
       "      <th>rm</th>\n",
       "      <th>age</th>\n",
       "      <th>dis</th>\n",
       "      <th>rad</th>\n",
       "      <th>tax</th>\n",
       "      <th>ptratio</th>\n",
       "      <th>black</th>\n",
       "      <th>lstat</th>\n",
       "    </tr>\n",
       "  </thead>\n",
       "  <tbody>\n",
       "    <tr>\n",
       "      <th>0</th>\n",
       "      <td>585.265238</td>\n",
       "      <td>1.792192</td>\n",
       "      <td>2.298758</td>\n",
       "      <td>3.991596</td>\n",
       "      <td>1.073995</td>\n",
       "      <td>4.39372</td>\n",
       "      <td>1.933744</td>\n",
       "      <td>3.100826</td>\n",
       "      <td>3.955945</td>\n",
       "      <td>7.484496</td>\n",
       "      <td>9.008554</td>\n",
       "      <td>1.799084</td>\n",
       "      <td>1.348521</td>\n",
       "      <td>2.941491</td>\n",
       "    </tr>\n",
       "  </tbody>\n",
       "</table>\n",
       "</div>"
      ],
      "text/plain": [
       "    intercept      crim        zn     indus      chas      nox        rm  \\\n",
       "0  585.265238  1.792192  2.298758  3.991596  1.073995  4.39372  1.933744   \n",
       "\n",
       "        age       dis       rad       tax   ptratio     black     lstat  \n",
       "0  3.100826  3.955945  7.484496  9.008554  1.799084  1.348521  2.941491  "
      ]
     },
     "execution_count": 98,
     "metadata": {},
     "output_type": "execute_result"
    }
   ],
   "source": [
    "\n",
    "# Make two design matrices (left and right hand side)\n",
    "all_columns = \"+\".join(boston.columns.drop(\"medv\"))\n",
    "my_formula = \"medv ~ \" + all_columns\n",
    "\n",
    "y, X = dmatrices(my_formula, data=boston, return_type=\"dataframe\")\n",
    "\n",
    "# Check for co-linearity by calculating vif factors\n",
    "vif = [variance_inflation_factor(X.values,i) for i in range(X.shape[1])]\n",
    "vif = np.array(vif).reshape(1,X.shape[1])\n",
    "\n",
    "# Generate column names\n",
    "names = list(boston)\n",
    "names.remove('medv')\n",
    "names = ['intercept'] + names\n",
    "\n",
    "# Create dataframe\n",
    "vif_df = pd.DataFrame(vif, columns = names)\n",
    "vif_df"
   ]
  },
  {
   "cell_type": "code",
   "execution_count": null,
   "metadata": {
    "collapsed": true
   },
   "outputs": [],
   "source": []
  }
 ],
 "metadata": {
  "kernelspec": {
   "display_name": "Python 3",
   "language": "python",
   "name": "python3"
  },
  "language_info": {
   "codemirror_mode": {
    "name": "ipython",
    "version": 3
   },
   "file_extension": ".py",
   "mimetype": "text/x-python",
   "name": "python",
   "nbconvert_exporter": "python",
   "pygments_lexer": "ipython3",
   "version": "3.6.0"
  }
 },
 "nbformat": 4,
 "nbformat_minor": 2
}
