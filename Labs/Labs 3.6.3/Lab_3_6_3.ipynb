{
 "cells": [
  {
   "cell_type": "markdown",
   "metadata": {
    "collapsed": true
   },
   "source": [
    "# 3.6.3 Multiple Linear Regression"
   ]
  },
  {
   "cell_type": "markdown",
   "metadata": {},
   "source": [
    "The MASS library contains the Boston data set, which records medv (median house value) for 506 neighborhoods around Boston. We will seek to predict medv using 13 predictors such as rm (average number of rooms per house), age (average age of houses), and lstat (percent of households with low socioeconomic status)."
   ]
  },
  {
   "cell_type": "code",
   "execution_count": 5,
   "metadata": {},
   "outputs": [],
   "source": [
    "# %load ../dss_import.txt\n",
    "import pandas as pd\n",
    "import numpy as np\n",
    "import matplotlib.pyplot as plt\n",
    "from mpl_toolkits.mplot3d import axes3d\n",
    "import seaborn as sns\n",
    "\n",
    "from sklearn.preprocessing import scale\n",
    "import sklearn.linear_model as skl_lm\n",
    "from sklearn.metrics import mean_squared_error, r2_score\n",
    "import statsmodels.api as sm\n",
    "import statsmodels.formula.api as smf\n",
    "from statsmodels.stats.outliers_influence import OLSInfluence\n",
    "from patsy import dmatrices\n",
    "from statsmodels.stats.outliers_influence import variance_inflation_factor\n",
    "\n",
    "pd.set_option('display.notebook_repr_html', False)\n",
    "\n",
    "%matplotlib inline\n",
    "plt.style.use('seaborn-white')"
   ]
  },
  {
   "cell_type": "markdown",
   "metadata": {},
   "source": [
    "### Import Dataset"
   ]
  },
  {
   "cell_type": "code",
   "execution_count": 6,
   "metadata": {},
   "outputs": [
    {
     "name": "stdout",
     "output_type": "stream",
     "text": [
      "<class 'pandas.core.frame.DataFrame'>\nRangeIndex: 506 entries, 0 to 505\nData columns (total 14 columns):\ncrim       506 non-null float64\nzn         506 non-null float64\nindus      506 non-null float64\nchas       506 non-null int64\nnox        506 non-null float64\nrm         506 non-null float64\nage        506 non-null float64\ndis        506 non-null float64\nrad        506 non-null int64\ntax        506 non-null int64\nptratio    506 non-null float64\nblack      506 non-null float64\nlstat      506 non-null float64\nmedv       506 non-null float64\ndtypes: float64(11), int64(3)\nmemory usage: 55.4 KB\n"
     ]
    }
   ],
   "source": [
    "boston = pd.read_csv('Data/Boston.csv', usecols=list(range(1, 15)))\n",
    "boston.info()"
   ]
  },
  {
   "cell_type": "markdown",
   "metadata": {},
   "source": [
    "### Multiple Linear Regression"
   ]
  },
  {
   "cell_type": "markdown",
   "metadata": {},
   "source": [
    "In order to fit a multiple linear regression model using least squares, we use the from\\_formula() method. The syntax from\\_formula(y~x1+x2+x3) is used to fit a model with three predictors, x1, x2, and x3. \n"
   ]
  },
  {
   "cell_type": "code",
   "execution_count": 7,
   "metadata": {},
   "outputs": [],
   "source": [
    "model = sm.OLS.from_formula('medv ~ lstat + age', boston)\n",
    "lm_fit = model.fit()"
   ]
  },
  {
   "cell_type": "markdown",
   "metadata": {},
   "source": [
    "The summary() function now outputs the regression coefficients for all the predictors."
   ]
  },
  {
   "cell_type": "code",
   "execution_count": 8,
   "metadata": {},
   "outputs": [
    {
     "name": "stdout",
     "output_type": "stream",
     "text": [
      "                            OLS Regression Results                            \n==============================================================================\nDep. Variable:                   medv   R-squared:                       0.551\nModel:                            OLS   Adj. R-squared:                  0.549\nMethod:                 Least Squares   F-statistic:                     309.0\nDate:                Mon, 10 Apr 2017   Prob (F-statistic):           2.98e-88\nTime:                        23:26:45   Log-Likelihood:                -1637.5\nNo. Observations:                 506   AIC:                             3281.\nDf Residuals:                     503   BIC:                             3294.\nDf Model:                           2                                         \nCovariance Type:            nonrobust                                         \n==============================================================================\n                 coef    std err          t      P>|t|      [95.0% Conf. Int.]\n------------------------------------------------------------------------------\nIntercept     33.2228      0.731     45.458      0.000        31.787    34.659\nlstat         -1.0321      0.048    -21.416      0.000        -1.127    -0.937\nage            0.0345      0.012      2.826      0.005         0.011     0.059\n==============================================================================\nOmnibus:                      124.288   Durbin-Watson:                   0.945\nProb(Omnibus):                  0.000   Jarque-Bera (JB):              244.026\nSkew:                           1.362   Prob(JB):                     1.02e-53\nKurtosis:                       5.038   Cond. No.                         201.\n==============================================================================\n\nWarnings:\n[1] Standard Errors assume that the covariance matrix of the errors is correctly specified.\n"
     ]
    }
   ],
   "source": [
    "print(lm_fit.summary())"
   ]
  },
  {
   "cell_type": "markdown",
   "metadata": {},
   "source": [
    "The Boston data set contains 13 variables, and so it would be cumbersome to have to type all of these in order to perform a regression using all of the predictors. Instead, we can use the following short-hand:"
   ]
  },
  {
   "cell_type": "code",
   "execution_count": 9,
   "metadata": {},
   "outputs": [
    {
     "name": "stdout",
     "output_type": "stream",
     "text": [
      "                            OLS Regression Results                            \n==============================================================================\nDep. Variable:                   medv   R-squared:                       0.741\nModel:                            OLS   Adj. R-squared:                  0.734\nMethod:                 Least Squares   F-statistic:                     108.1\nDate:                Mon, 10 Apr 2017   Prob (F-statistic):          6.72e-135\nTime:                        23:26:46   Log-Likelihood:                -1498.8\nNo. Observations:                 506   AIC:                             3026.\nDf Residuals:                     492   BIC:                             3085.\nDf Model:                          13                                         \nCovariance Type:            nonrobust                                         \n==============================================================================\n                 coef    std err          t      P>|t|      [95.0% Conf. Int.]\n------------------------------------------------------------------------------\nIntercept     36.4595      5.103      7.144      0.000        26.432    46.487\nage            0.0007      0.013      0.052      0.958        -0.025     0.027\nblack          0.0093      0.003      3.467      0.001         0.004     0.015\nchas           2.6867      0.862      3.118      0.002         0.994     4.380\ncrim          -0.1080      0.033     -3.287      0.001        -0.173    -0.043\ndis           -1.4756      0.199     -7.398      0.000        -1.867    -1.084\nindus          0.0206      0.061      0.334      0.738        -0.100     0.141\nlstat         -0.5248      0.051    -10.347      0.000        -0.624    -0.425\nnox          -17.7666      3.820     -4.651      0.000       -25.272   -10.262\nptratio       -0.9527      0.131     -7.283      0.000        -1.210    -0.696\nrad            0.3060      0.066      4.613      0.000         0.176     0.436\nrm             3.8099      0.418      9.116      0.000         2.989     4.631\ntax           -0.0123      0.004     -3.280      0.001        -0.020    -0.005\nzn             0.0464      0.014      3.382      0.001         0.019     0.073\n==============================================================================\nOmnibus:                      178.041   Durbin-Watson:                   1.078\nProb(Omnibus):                  0.000   Jarque-Bera (JB):              783.126\nSkew:                           1.521   Prob(JB):                    8.84e-171\nKurtosis:                       8.281   Cond. No.                     1.51e+04\n==============================================================================\n\nWarnings:\n[1] Standard Errors assume that the covariance matrix of the errors is correctly specified.\n[2] The condition number is large, 1.51e+04. This might indicate that there are\nstrong multicollinearity or other numerical problems.\n"
     ]
    }
   ],
   "source": [
    "model = sm.OLS.from_formula('medv ~ ' + '+'.join(boston.columns.difference(['medv'])), boston)\n",
    "lm_fit = model.fit()\n",
    "print(lm_fit.summary())"
   ]
  },
  {
   "cell_type": "markdown",
   "metadata": {},
   "source": [
    "We can use the same approach to perform a regression using just a subset of the predictors. For example, in the above regression output, age have a high p-value. Because of this we may wish to run a regression excluding this predictor as follows:"
   ]
  },
  {
   "cell_type": "code",
   "execution_count": 10,
   "metadata": {},
   "outputs": [
    {
     "name": "stdout",
     "output_type": "stream",
     "text": [
      "                            OLS Regression Results                            \n==============================================================================\nDep. Variable:                   medv   R-squared:                       0.741\nModel:                            OLS   Adj. R-squared:                  0.734\nMethod:                 Least Squares   F-statistic:                     117.3\nDate:                Mon, 10 Apr 2017   Prob (F-statistic):          6.08e-136\nTime:                        23:26:48   Log-Likelihood:                -1498.8\nNo. Observations:                 506   AIC:                             3024.\nDf Residuals:                     493   BIC:                             3079.\nDf Model:                          12                                         \nCovariance Type:            nonrobust                                         \n==============================================================================\n                 coef    std err          t      P>|t|      [95.0% Conf. Int.]\n------------------------------------------------------------------------------\nIntercept     36.4369      5.080      7.172      0.000        26.456    46.418\nblack          0.0093      0.003      3.481      0.001         0.004     0.015\nchas           2.6890      0.860      3.128      0.002         1.000     4.378\ncrim          -0.1080      0.033     -3.290      0.001        -0.173    -0.043\ndis           -1.4786      0.191     -7.757      0.000        -1.853    -1.104\nindus          0.0206      0.061      0.335      0.738        -0.100     0.141\nlstat         -0.5239      0.048    -10.999      0.000        -0.617    -0.430\nnox          -17.7135      3.679     -4.814      0.000       -24.943   -10.484\nptratio       -0.9522      0.130     -7.308      0.000        -1.208    -0.696\nrad            0.3058      0.066      4.627      0.000         0.176     0.436\nrm             3.8144      0.408      9.338      0.000         3.012     4.617\ntax           -0.0123      0.004     -3.283      0.001        -0.020    -0.005\nzn             0.0463      0.014      3.404      0.001         0.020     0.073\n==============================================================================\nOmnibus:                      178.343   Durbin-Watson:                   1.078\nProb(Omnibus):                  0.000   Jarque-Bera (JB):              786.386\nSkew:                           1.523   Prob(JB):                    1.73e-171\nKurtosis:                       8.294   Cond. No.                     1.48e+04\n==============================================================================\n\nWarnings:\n[1] Standard Errors assume that the covariance matrix of the errors is correctly specified.\n[2] The condition number is large, 1.48e+04. This might indicate that there are\nstrong multicollinearity or other numerical problems.\n"
     ]
    }
   ],
   "source": [
    "model = sm.OLS.from_formula('medv ~ ' + '+'.join(boston.columns.difference(['medv', 'age'])), boston)\n",
    "lm_fit = model.fit()\n",
    "print(lm_fit.summary())"
   ]
  },
  {
   "cell_type": "markdown",
   "metadata": {},
   "source": [
    "In the above regression output, indus have a high p-value. Because of this we may wish to run a regression excluding both age and indus as follows:"
   ]
  },
  {
   "cell_type": "code",
   "execution_count": 11,
   "metadata": {},
   "outputs": [
    {
     "name": "stdout",
     "output_type": "stream",
     "text": [
      "                            OLS Regression Results                            \n==============================================================================\nDep. Variable:                   medv   R-squared:                       0.741\nModel:                            OLS   Adj. R-squared:                  0.735\nMethod:                 Least Squares   F-statistic:                     128.2\nDate:                Mon, 10 Apr 2017   Prob (F-statistic):          5.54e-137\nTime:                        23:26:49   Log-Likelihood:                -1498.9\nNo. Observations:                 506   AIC:                             3022.\nDf Residuals:                     494   BIC:                             3072.\nDf Model:                          11                                         \nCovariance Type:            nonrobust                                         \n==============================================================================\n                 coef    std err          t      P>|t|      [95.0% Conf. Int.]\n------------------------------------------------------------------------------\nIntercept     36.3411      5.067      7.171      0.000        26.385    46.298\nblack          0.0093      0.003      3.475      0.001         0.004     0.015\nchas           2.7187      0.854      3.183      0.002         1.040     4.397\ncrim          -0.1084      0.033     -3.307      0.001        -0.173    -0.044\ndis           -1.4927      0.186     -8.037      0.000        -1.858    -1.128\nlstat         -0.5226      0.047    -11.019      0.000        -0.616    -0.429\nnox          -17.3760      3.535     -4.915      0.000       -24.322   -10.430\nptratio       -0.9465      0.129     -7.334      0.000        -1.200    -0.693\nrad            0.2996      0.063      4.726      0.000         0.175     0.424\nrm             3.8016      0.406      9.356      0.000         3.003     4.600\ntax           -0.0118      0.003     -3.493      0.001        -0.018    -0.005\nzn             0.0458      0.014      3.390      0.001         0.019     0.072\n==============================================================================\nOmnibus:                      178.430   Durbin-Watson:                   1.078\nProb(Omnibus):                  0.000   Jarque-Bera (JB):              787.785\nSkew:                           1.523   Prob(JB):                    8.60e-172\nKurtosis:                       8.300   Cond. No.                     1.47e+04\n==============================================================================\n\nWarnings:\n[1] Standard Errors assume that the covariance matrix of the errors is correctly specified.\n[2] The condition number is large, 1.47e+04. This might indicate that there are\nstrong multicollinearity or other numerical problems.\n"
     ]
    }
   ],
   "source": [
    "model = sm.OLS.from_formula('medv ~ ' + '+'.join(boston.columns.difference(['medv', 'age', 'indus'])), boston)\n",
    "lm_fit = model.fit()\n",
    "print(lm_fit.summary())"
   ]
  },
  {
   "cell_type": "markdown",
   "metadata": {},
   "source": [
    "### Variance Inflation Factor"
   ]
  },
  {
   "cell_type": "markdown",
   "metadata": {},
   "source": [
    "Most VIF's are low to moderate for this data"
   ]
  },
  {
   "cell_type": "code",
   "execution_count": 23,
   "metadata": {},
   "outputs": [
    {
     "name": "stdout",
     "output_type": "stream",
     "text": [
      "[585.26523794231207, 1.7921915474332406, 2.2987581787494409, 3.9915964183460333, 1.0739953275537886, 4.3937198475774952, 1.9337444357832565, 3.1008255128153364, 3.9559449063727281, 7.4844963352744722, 9.0085539475970702, 1.7990840492488984, 1.3485210764063758, 2.9414910780919366]\n"
     ]
    }
   ],
   "source": [
    "# Break into left and right hand side; y and X\n",
    "y, X = dmatrices(\"medv ~ crim + zn + indus + chas + nox + rm + age + dis + rad + tax + ptratio + black + lstat\", data=boston, return_type=\"dataframe\")\n",
    "\n",
    "# For each Xi, calculate VIF\n",
    "vif = [variance_inflation_factor(X.values, i) for i in range(X.shape[1])]\n",
    "\n",
    "# Fit X to y\n",
    "result = sm.OLS(y, X).fit()\n",
    "\n",
    "print(vif)"
   ]
  },
  {
   "cell_type": "code",
   "execution_count": null,
   "metadata": {},
   "outputs": [],
   "source": [
    ""
   ]
  }
 ],
 "metadata": {
  "kernelspec": {
   "display_name": "Python 2",
   "language": "python",
   "name": "python2"
  },
  "language_info": {
   "codemirror_mode": {
    "name": "ipython",
    "version": 2.0
   },
   "file_extension": ".py",
   "mimetype": "text/x-python",
   "name": "python",
   "nbconvert_exporter": "python",
   "pygments_lexer": "ipython2",
   "version": "2.7.6"
  }
 },
 "nbformat": 4,
 "nbformat_minor": 0
}