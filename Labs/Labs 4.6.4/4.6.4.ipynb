{
 "cells": [
  {
   "cell_type": "markdown",
   "metadata": {},
   "source": [
    "# 4.6.4 Quadratic Discriminant Analysis"
   ]
  },
  {
   "cell_type": "markdown",
   "metadata": {},
   "source": [
    "Load modules and data"
   ]
  },
  {
   "cell_type": "code",
   "execution_count": 2,
   "metadata": {
    "collapsed": true
   },
   "outputs": [],
   "source": [
    "from scipy import stats\n",
    "import pandas as pd\n",
    "import seaborn as sns\n",
    "import scipy as sp\n",
    "import numpy as np\n",
    "import matplotlib as mpl\n",
    "from matplotlib import pyplot as plt\n",
    "from sklearn.preprocessing import scale\n",
    "import sklearn.linear_model as skl_lm\n",
    "from sklearn.metrics import mean_squared_error, r2_score\n",
    "import statsmodels.api as sm\n",
    "import statsmodels.formula.api as smf\n",
    "%matplotlib inline\n",
    "plt.style.use('seaborn-white')\n",
    "from sklearn.metrics import confusion_matrix, classification_report\n",
    "from sklearn.discriminant_analysis import QuadraticDiscriminantAnalysis\n",
    "\n",
    "Smarket = pd.read_csv('Data/Smarket.csv', usecols = range(1,10),parse_dates=True)"
   ]
  },
  {
   "cell_type": "markdown",
   "metadata": {},
   "source": [
    "Now we will perform QDA on the Smarket data. In Python, we can fit a QDA model using the QuadraticDiscriminantAnalysis function, which is part of the sklearn library."
   ]
  },
  {
   "cell_type": "code",
   "execution_count": 4,
   "metadata": {
    "collapsed": false
   },
   "outputs": [],
   "source": [
    "x_train = Smarket[0:sum(Smarket.Year<2005)][['Lag1','Lag2']]\n",
    "y_train = Smarket[0:sum(Smarket.Year<2005)]['Direction']\n",
    "\n",
    "qda = QuadraticDiscriminantAnalysis()\n",
    "qda.fit(x_train, y_train);"
   ]
  },
  {
   "cell_type": "markdown",
   "metadata": {},
   "source": [
    "### Prior probabilities of groups:"
   ]
  },
  {
   "cell_type": "code",
   "execution_count": 6,
   "metadata": {
    "collapsed": false
   },
   "outputs": [
    {
     "name": "stdout",
     "output_type": "stream",
     "text": [
      "Down: 0.491984\n",
      "Up: 0.508016\n"
     ]
    }
   ],
   "source": [
    "print(\"Down: %f\" % qda.priors_[0])\n",
    "print(\"Up: %f\" % qda.priors_[1])"
   ]
  },
  {
   "cell_type": "markdown",
   "metadata": {},
   "source": [
    "The LDA output indicates prior probabilities of ${\\hat{\\pi}}_1 = 0.492$ and ${\\hat{\\pi}}_2 = 0.508$; in other words,\n",
    "49.2% of the training observations correspond to days during which the\n",
    "market went down."
   ]
  },
  {
   "cell_type": "markdown",
   "metadata": {},
   "source": [
    "### Group means:"
   ]
  },
  {
   "cell_type": "code",
   "execution_count": 7,
   "metadata": {
    "collapsed": false
   },
   "outputs": [
    {
     "data": {
      "text/html": [
       "<div>\n",
       "<table border=\"1\" class=\"dataframe\">\n",
       "  <thead>\n",
       "    <tr style=\"text-align: right;\">\n",
       "      <th></th>\n",
       "      <th>Lag1</th>\n",
       "      <th>Lag2</th>\n",
       "    </tr>\n",
       "  </thead>\n",
       "  <tbody>\n",
       "    <tr>\n",
       "      <th>Down</th>\n",
       "      <td>0.042790</td>\n",
       "      <td>0.033894</td>\n",
       "    </tr>\n",
       "    <tr>\n",
       "      <th>Up</th>\n",
       "      <td>-0.039546</td>\n",
       "      <td>-0.031325</td>\n",
       "    </tr>\n",
       "  </tbody>\n",
       "</table>\n",
       "</div>"
      ],
      "text/plain": [
       "          Lag1      Lag2\n",
       "Down  0.042790  0.033894\n",
       "Up   -0.039546 -0.031325"
      ]
     },
     "execution_count": 7,
     "metadata": {},
     "output_type": "execute_result"
    }
   ],
   "source": [
    "pd.DataFrame(qda.means_,['Down', 'Up'],['Lag1','Lag2'])"
   ]
  },
  {
   "cell_type": "markdown",
   "metadata": {},
   "source": [
    "The output contains the group means. But it does not contain the coefficients\n",
    "of the linear discriminants, because the QDA classifier involves a\n",
    "quadratic, rather than a linear, function of the predictors. \n",
    "\n",
    "The predict() function returns a list of QDA’s predictions about the movement of the market on the test data:"
   ]
  },
  {
   "cell_type": "code",
   "execution_count": 8,
   "metadata": {
    "collapsed": false
   },
   "outputs": [
    {
     "data": {
      "text/html": [
       "<div>\n",
       "<table border=\"1\" class=\"dataframe\">\n",
       "  <thead>\n",
       "    <tr style=\"text-align: right;\">\n",
       "      <th></th>\n",
       "      <th>Down</th>\n",
       "      <th>Up</th>\n",
       "    </tr>\n",
       "  </thead>\n",
       "  <tbody>\n",
       "    <tr>\n",
       "      <th>Down</th>\n",
       "      <td>30</td>\n",
       "      <td>20</td>\n",
       "    </tr>\n",
       "    <tr>\n",
       "      <th>Up</th>\n",
       "      <td>81</td>\n",
       "      <td>121</td>\n",
       "    </tr>\n",
       "  </tbody>\n",
       "</table>\n",
       "</div>"
      ],
      "text/plain": [
       "      Down   Up\n",
       "Down    30   20\n",
       "Up      81  121"
      ]
     },
     "execution_count": 8,
     "metadata": {},
     "output_type": "execute_result"
    }
   ],
   "source": [
    "x_test = Smarket[sum(Smarket.Year<2005):][['Lag1','Lag2']] # Data from 2005\n",
    "y_test = Smarket[sum(Smarket.Year<2005):]['Direction'] # Data from 2005\n",
    "predict = qda.predict(x_test)\n",
    "pd.DataFrame(confusion_matrix(y_test, predict).T,['Down', 'Up'],['Down','Up'])"
   ]
  },
  {
   "cell_type": "markdown",
   "metadata": {},
   "source": [
    "##### Mean value"
   ]
  },
  {
   "cell_type": "code",
   "execution_count": 10,
   "metadata": {
    "collapsed": false
   },
   "outputs": [
    {
     "data": {
      "text/plain": [
       "0.5992063492063492"
      ]
     },
     "execution_count": 10,
     "metadata": {},
     "output_type": "execute_result"
    }
   ],
   "source": [
    "(30+121.0)/(30+20+81+121)"
   ]
  },
  {
   "cell_type": "code",
   "execution_count": 11,
   "metadata": {
    "collapsed": false
   },
   "outputs": [
    {
     "name": "stdout",
     "output_type": "stream",
     "text": [
      "             precision    recall  f1-score   support\n",
      "\n",
      "       Down      0.600     0.270     0.373       111\n",
      "         Up      0.599     0.858     0.706       141\n",
      "\n",
      "avg / total      0.599     0.599     0.559       252\n",
      "\n"
     ]
    }
   ],
   "source": [
    "print(classification_report(y_test, predict, digits=3))"
   ]
  },
  {
   "cell_type": "markdown",
   "metadata": {},
   "source": [
    "Interestingly, the QDA predictions are accurate almost 60% of the time,\n",
    "even though the 2005 data was not used to fit the model. This level of accuracy\n",
    "is quite impressive for stock market data, which is known to be quite\n",
    "hard to model accurately. This suggests that the quadratic form assumed\n",
    "by QDA may capture the true relationship more accurately than the linear\n",
    "forms assumed by LDA and logistic regression. However, we recommend\n",
    "evaluating this method’s performance on a larger test set before betting\n",
    "that this approach will consistently beat the market!"
   ]
  },
  {
   "cell_type": "markdown",
   "metadata": {},
   "source": [
    "# Bonus"
   ]
  },
  {
   "cell_type": "markdown",
   "metadata": {},
   "source": [
    "Indraget Volume"
   ]
  },
  {
   "cell_type": "code",
   "execution_count": 54,
   "metadata": {
    "collapsed": false
   },
   "outputs": [
    {
     "name": "stdout",
     "output_type": "stream",
     "text": [
      "             precision    recall  f1-score   support\n",
      "\n",
      "       Down      0.433     0.757     0.551       111\n",
      "         Up      0.534     0.220     0.312       141\n",
      "\n",
      "avg / total      0.490     0.456     0.417       252\n",
      "\n"
     ]
    }
   ],
   "source": [
    "x_train = Smarket[0:sum(Smarket.Year<2005)][['Lag1','Lag2','Volume']]\n",
    "y_train = Smarket[0:sum(Smarket.Year<2005)]['Direction']\n",
    "\n",
    "qda = QuadraticDiscriminantAnalysis()\n",
    "qda.fit(x_train, y_train);\n",
    "x_test = Smarket[sum(Smarket.Year<2005):][['Lag1','Lag2','Volume']] # Data from 2005\n",
    "y_test = Smarket[sum(Smarket.Year<2005):]['Direction'] # Data from 2005\n",
    "predict = qda.predict(x_test)\n",
    "print(classification_report(y_test, predict, digits=3))"
   ]
  },
  {
   "cell_type": "markdown",
   "metadata": {},
   "source": [
    "Forudser kun korrekt 45,6%"
   ]
  },
  {
   "cell_type": "code",
   "execution_count": 58,
   "metadata": {
    "collapsed": false
   },
   "outputs": [
    {
     "name": "stdout",
     "output_type": "stream",
     "text": [
      "             precision    recall  f1-score   support\n",
      "\n",
      "       Down      0.443     0.910     0.596       111\n",
      "         Up      0.583     0.099     0.170       141\n",
      "\n",
      "avg / total      0.522     0.456     0.357       252\n",
      "\n"
     ]
    }
   ],
   "source": [
    "x_train = Smarket[0:sum(Smarket.Year<2004)][['Lag1','Lag2']]\n",
    "y_train = Smarket[0:sum(Smarket.Year<2004)]['Direction']\n",
    "\n",
    "qda = QuadraticDiscriminantAnalysis()\n",
    "qda.fit(x_train, y_train);\n",
    "x_test = Smarket[sum(Smarket.Year<2005):][['Lag1','Lag2']] # Data from 2005\n",
    "y_test = Smarket[sum(Smarket.Year<2005):]['Direction'] # Data from 2005\n",
    "predict = qda.predict(x_test)\n",
    "print(classification_report(y_test, predict, digits=3))"
   ]
  },
  {
   "cell_type": "markdown",
   "metadata": {},
   "source": [
    "Mindre testdata sæt gør det svære at forudse hvorvidt markedet vil stige eller falde"
   ]
  }
 ],
 "metadata": {
  "anaconda-cloud": {},
  "kernelspec": {
   "display_name": "Python [default]",
   "language": "python",
   "name": "python2"
  },
  "language_info": {
   "codemirror_mode": {
    "name": "ipython",
    "version": 2
   },
   "file_extension": ".py",
   "mimetype": "text/x-python",
   "name": "python",
   "nbconvert_exporter": "python",
   "pygments_lexer": "ipython2",
   "version": "2.7.12"
  }
 },
 "nbformat": 4,
 "nbformat_minor": 1
}
