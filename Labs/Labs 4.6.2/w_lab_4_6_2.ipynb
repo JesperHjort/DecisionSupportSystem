{
 "cells": [
  {
   "cell_type": "code",
   "execution_count": 79,
   "metadata": {
    "collapsed": true
   },
   "outputs": [],
   "source": [
    "import pandas as pd\n",
    "import numpy as np\n",
    "import statsmodels.api as sm\n",
    "%matplotlib inline"
   ]
  },
  {
   "cell_type": "code",
   "execution_count": 13,
   "metadata": {
    "collapsed": false
   },
   "outputs": [
    {
     "data": {
      "text/html": [
       "<div>\n",
       "<table border=\"1\" class=\"dataframe\">\n",
       "  <thead>\n",
       "    <tr style=\"text-align: right;\">\n",
       "      <th></th>\n",
       "      <th>Year</th>\n",
       "      <th>Lag1</th>\n",
       "      <th>Lag2</th>\n",
       "      <th>Lag3</th>\n",
       "      <th>Lag4</th>\n",
       "      <th>Lag5</th>\n",
       "      <th>Volume</th>\n",
       "      <th>Today</th>\n",
       "      <th>Up</th>\n",
       "      <th>Intercept</th>\n",
       "    </tr>\n",
       "  </thead>\n",
       "  <tbody>\n",
       "    <tr>\n",
       "      <th>0</th>\n",
       "      <td>2001</td>\n",
       "      <td>0.381</td>\n",
       "      <td>-0.192</td>\n",
       "      <td>-2.624</td>\n",
       "      <td>-1.055</td>\n",
       "      <td>5.010</td>\n",
       "      <td>1.1913</td>\n",
       "      <td>0.959</td>\n",
       "      <td>1</td>\n",
       "      <td>1.0</td>\n",
       "    </tr>\n",
       "    <tr>\n",
       "      <th>1</th>\n",
       "      <td>2001</td>\n",
       "      <td>0.959</td>\n",
       "      <td>0.381</td>\n",
       "      <td>-0.192</td>\n",
       "      <td>-2.624</td>\n",
       "      <td>-1.055</td>\n",
       "      <td>1.2965</td>\n",
       "      <td>1.032</td>\n",
       "      <td>1</td>\n",
       "      <td>1.0</td>\n",
       "    </tr>\n",
       "    <tr>\n",
       "      <th>2</th>\n",
       "      <td>2001</td>\n",
       "      <td>1.032</td>\n",
       "      <td>0.959</td>\n",
       "      <td>0.381</td>\n",
       "      <td>-0.192</td>\n",
       "      <td>-2.624</td>\n",
       "      <td>1.4112</td>\n",
       "      <td>-0.623</td>\n",
       "      <td>0</td>\n",
       "      <td>1.0</td>\n",
       "    </tr>\n",
       "    <tr>\n",
       "      <th>3</th>\n",
       "      <td>2001</td>\n",
       "      <td>-0.623</td>\n",
       "      <td>1.032</td>\n",
       "      <td>0.959</td>\n",
       "      <td>0.381</td>\n",
       "      <td>-0.192</td>\n",
       "      <td>1.2760</td>\n",
       "      <td>0.614</td>\n",
       "      <td>1</td>\n",
       "      <td>1.0</td>\n",
       "    </tr>\n",
       "    <tr>\n",
       "      <th>4</th>\n",
       "      <td>2001</td>\n",
       "      <td>0.614</td>\n",
       "      <td>-0.623</td>\n",
       "      <td>1.032</td>\n",
       "      <td>0.959</td>\n",
       "      <td>0.381</td>\n",
       "      <td>1.2057</td>\n",
       "      <td>0.213</td>\n",
       "      <td>1</td>\n",
       "      <td>1.0</td>\n",
       "    </tr>\n",
       "  </tbody>\n",
       "</table>\n",
       "</div>"
      ],
      "text/plain": [
       "   Year   Lag1   Lag2   Lag3   Lag4   Lag5  Volume  Today  Up  Intercept\n",
       "0  2001  0.381 -0.192 -2.624 -1.055  5.010  1.1913  0.959   1        1.0\n",
       "1  2001  0.959  0.381 -0.192 -2.624 -1.055  1.2965  1.032   1        1.0\n",
       "2  2001  1.032  0.959  0.381 -0.192 -2.624  1.4112 -0.623   0        1.0\n",
       "3  2001 -0.623  1.032  0.959  0.381 -0.192  1.2760  0.614   1        1.0\n",
       "4  2001  0.614 -0.623  1.032  0.959  0.381  1.2057  0.213   1        1.0"
      ]
     },
     "execution_count": 13,
     "metadata": {},
     "output_type": "execute_result"
    }
   ],
   "source": [
    "# Read data\n",
    "smarket = pd.read_csv('Data/Smarket.csv', usecols = range(1,10))\n",
    "\n",
    "# Convert direction to dummy variables 'Up' and 'Down' (binary)\n",
    "dummy_directions = pd.get_dummies(smarket['Direction'])\n",
    "\n",
    "# Remove original 'Direction' column and 'Down' dummy variable to avoid the >>dummy variable trap<<\n",
    "smarket = smarket.ix[:,: 'Today'].join(dummy_directions['Up'])\n",
    "\n",
    "# Add intercept\n",
    "smarket['Intercept'] = 1.0\n",
    "\n",
    "# Verify dataframe\n",
    "smarket.head()"
   ]
  },
  {
   "cell_type": "code",
   "execution_count": 44,
   "metadata": {
    "collapsed": false
   },
   "outputs": [
    {
     "name": "stdout",
     "output_type": "stream",
     "text": [
      "Optimization terminated successfully.\n",
      "         Current function value: 2.197001\n",
      "         Iterations 4\n",
      "                           Logit Regression Results                           \n",
      "==============================================================================\n",
      "Dep. Variable:                     Up   No. Observations:                 1250\n",
      "Model:                          Logit   Df Residuals:                     1243\n",
      "Method:                           MLE   Df Model:                            6\n",
      "Date:                Wed, 26 Apr 2017   Pseudo R-squ.:                  -5.451\n",
      "Time:                        17:46:47   Log-Likelihood:                -2746.3\n",
      "converged:                       True   LL-Null:                       -425.74\n",
      "                                        LLR p-value:                     1.000\n",
      "==============================================================================\n",
      "                 coef    std err          z      P>|z|      [95.0% Conf. Int.]\n",
      "------------------------------------------------------------------------------\n",
      "Lag1          -0.0731      0.050     -1.457      0.145        -0.171     0.025\n",
      "Lag2          -0.0423      0.050     -0.845      0.398        -0.140     0.056\n",
      "Lag3           0.0111      0.050      0.222      0.824        -0.087     0.109\n",
      "Lag4           0.0094      0.050      0.187      0.851        -0.089     0.107\n",
      "Lag5           0.0103      0.050      0.208      0.835        -0.087     0.107\n",
      "Volume         0.1354      0.158      0.855      0.392        -0.175     0.446\n",
      "Intercept     -0.1260      0.241     -0.523      0.601        -0.598     0.346\n",
      "==============================================================================\n"
     ]
    }
   ],
   "source": [
    "# We now perform logistic regression of 'Up' onto the 'Lag's and 'Volume'\n",
    "log_reg = sm.Logit(smarket.Up, smarket.drop(['Up','Year','Today'], axis=1))\n",
    "fit_model = log_reg.fit()\n",
    "print(fit_model.summary())"
   ]
  },
  {
   "cell_type": "code",
   "execution_count": 83,
   "metadata": {
    "collapsed": false
   },
   "outputs": [
    {
     "name": "stdout",
     "output_type": "stream",
     "text": [
      "Confusion matrix:\n",
      "       Down   Up\n",
      "Down   145  141\n",
      "Up     457  507 \n",
      "\n",
      "The fraction of correct guesses is: 0.52\n",
      "The error rate is: 0.48\n"
     ]
    }
   ],
   "source": [
    "# We calculate the confusion matrix\n",
    "confusion_data = fit_model.pred_table(threshold=0.5).T\n",
    "\n",
    "confusion_matrix = pd.DataFrame(confusion_data, columns=['Down', 'Up'], index = ['Down', 'Up'], dtype=int)\n",
    "print(\"Confusion matrix:\\n\", confusion_matrix, \"\\n\")\n",
    "# The diagonal elements are the number of correct predictions\n",
    "# The off-diagonal elements are the number of wrong predictions\n",
    "\n",
    "correct = sum(np.diagonal(confusion_data))\n",
    "ratio = correct/np.sum(confusion_data)\n",
    "print(\"The fraction of correct guesses is: %0.2f\" % ratio)\n",
    "print(\"The error rate is: %0.2f\" % (1-ratio))"
   ]
  },
  {
   "cell_type": "code",
   "execution_count": null,
   "metadata": {
    "collapsed": true
   },
   "outputs": [],
   "source": []
  }
 ],
 "metadata": {
  "kernelspec": {
   "display_name": "Python 3",
   "language": "python",
   "name": "python3"
  },
  "language_info": {
   "codemirror_mode": {
    "name": "ipython",
    "version": 3
   },
   "file_extension": ".py",
   "mimetype": "text/x-python",
   "name": "python",
   "nbconvert_exporter": "python",
   "pygments_lexer": "ipython3",
   "version": "3.6.0"
  }
 },
 "nbformat": 4,
 "nbformat_minor": 2
}
