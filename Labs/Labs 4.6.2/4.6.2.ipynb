{
 "cells": [
  {
   "cell_type": "markdown",
   "metadata": {},
   "source": [
    "# 4.6.2 Logistic Regression"
   ]
  },
  {
   "cell_type": "markdown",
   "metadata": {},
   "source": [
    "#### Load modules and data"
   ]
  },
  {
   "cell_type": "code",
   "execution_count": 31,
   "metadata": {
    "collapsed": false
   },
   "outputs": [],
   "source": [
    "from scipy import stats\n",
    "import pandas as pd\n",
    "import seaborn as sns\n",
    "import scipy as sp\n",
    "import numpy as np\n",
    "import matplotlib as mpl\n",
    "from matplotlib import pyplot as plt\n",
    "from sklearn.preprocessing import scale\n",
    "import sklearn.linear_model as skl_lm\n",
    "from sklearn.metrics import mean_squared_error, r2_score\n",
    "import statsmodels.api as sm\n",
    "import statsmodels.formula.api as smf\n",
    "%matplotlib inline\n",
    "plt.style.use('seaborn-white')\n",
    "\n",
    "\n",
    "Smarket = pd.read_csv('Data/Smarket.csv', usecols = range(1,10))"
   ]
  },
  {
   "cell_type": "markdown",
   "metadata": {},
   "source": [
    "In this lab, we will fit a logistic regression model in order to predict  Direction  using  Lag1 through  Lag5  and  Volume . We'll build our model using the glm() function.\n",
    "\n",
    "The  glm()  function fits generalized linear models, a class of models that includes logistic regression. The syntax of the glm()  function is similar to that of  ols(), except that we must pass in the argument  family=sm.families.Binomial()  in order to run a logistic regression rather than some other type of generalized linear model."
   ]
  },
  {
   "cell_type": "code",
   "execution_count": 32,
   "metadata": {
    "collapsed": false
   },
   "outputs": [
    {
     "data": {
      "text/html": [
       "<table class=\"simpletable\">\n",
       "<tr>\n",
       "      <td></td>         <th>coef</th>     <th>std err</th>      <th>z</th>      <th>P>|z|</th> <th>[95.0% Conf. Int.]</th> \n",
       "</tr>\n",
       "<tr>\n",
       "  <th>Intercept</th> <td>    0.1260</td> <td>    0.241</td> <td>    0.523</td> <td> 0.601</td> <td>   -0.346     0.598</td>\n",
       "</tr>\n",
       "<tr>\n",
       "  <th>Lag1</th>      <td>    0.0731</td> <td>    0.050</td> <td>    1.457</td> <td> 0.145</td> <td>   -0.025     0.171</td>\n",
       "</tr>\n",
       "<tr>\n",
       "  <th>Lag2</th>      <td>    0.0423</td> <td>    0.050</td> <td>    0.845</td> <td> 0.398</td> <td>   -0.056     0.140</td>\n",
       "</tr>\n",
       "<tr>\n",
       "  <th>Lag3</th>      <td>   -0.0111</td> <td>    0.050</td> <td>   -0.222</td> <td> 0.824</td> <td>   -0.109     0.087</td>\n",
       "</tr>\n",
       "<tr>\n",
       "  <th>Lag4</th>      <td>   -0.0094</td> <td>    0.050</td> <td>   -0.187</td> <td> 0.851</td> <td>   -0.107     0.089</td>\n",
       "</tr>\n",
       "<tr>\n",
       "  <th>Lag5</th>      <td>   -0.0103</td> <td>    0.050</td> <td>   -0.208</td> <td> 0.835</td> <td>   -0.107     0.087</td>\n",
       "</tr>\n",
       "<tr>\n",
       "  <th>Volume</th>    <td>   -0.1354</td> <td>    0.158</td> <td>   -0.855</td> <td> 0.392</td> <td>   -0.446     0.175</td>\n",
       "</tr>\n",
       "</table>"
      ],
      "text/plain": [
       "<class 'statsmodels.iolib.table.SimpleTable'>"
      ]
     },
     "execution_count": 32,
     "metadata": {},
     "output_type": "execute_result"
    }
   ],
   "source": [
    "res = smf.glm('Direction ~ Lag1 + Lag2 + Lag3 + Lag4 + Lag5 + Volume', Smarket, family=sm.families.Binomial()).fit()\n",
    "res.summary().tables[1]"
   ]
  },
  {
   "cell_type": "markdown",
   "metadata": {},
   "source": [
    "Fortegnene er vendte i forhold til bogen da up og down bliver defineret modsat i glm funktionen. Nedenfor ændres Direction så glm resultatet matcher bogen. "
   ]
  },
  {
   "cell_type": "code",
   "execution_count": 34,
   "metadata": {
    "collapsed": false
   },
   "outputs": [
    {
     "data": {
      "text/html": [
       "<table class=\"simpletable\">\n",
       "<tr>\n",
       "      <td></td>         <th>coef</th>     <th>std err</th>      <th>z</th>      <th>P>|z|</th> <th>[95.0% Conf. Int.]</th> \n",
       "</tr>\n",
       "<tr>\n",
       "  <th>Intercept</th> <td>   -0.1260</td> <td>    0.241</td> <td>   -0.523</td> <td> 0.601</td> <td>   -0.598     0.346</td>\n",
       "</tr>\n",
       "<tr>\n",
       "  <th>Lag1</th>      <td>   -0.0731</td> <td>    0.050</td> <td>   -1.457</td> <td> 0.145</td> <td>   -0.171     0.025</td>\n",
       "</tr>\n",
       "<tr>\n",
       "  <th>Lag2</th>      <td>   -0.0423</td> <td>    0.050</td> <td>   -0.845</td> <td> 0.398</td> <td>   -0.140     0.056</td>\n",
       "</tr>\n",
       "<tr>\n",
       "  <th>Lag3</th>      <td>    0.0111</td> <td>    0.050</td> <td>    0.222</td> <td> 0.824</td> <td>   -0.087     0.109</td>\n",
       "</tr>\n",
       "<tr>\n",
       "  <th>Lag4</th>      <td>    0.0094</td> <td>    0.050</td> <td>    0.187</td> <td> 0.851</td> <td>   -0.089     0.107</td>\n",
       "</tr>\n",
       "<tr>\n",
       "  <th>Lag5</th>      <td>    0.0103</td> <td>    0.050</td> <td>    0.208</td> <td> 0.835</td> <td>   -0.087     0.107</td>\n",
       "</tr>\n",
       "<tr>\n",
       "  <th>Volume</th>    <td>    0.1354</td> <td>    0.158</td> <td>    0.855</td> <td> 0.392</td> <td>   -0.175     0.446</td>\n",
       "</tr>\n",
       "</table>"
      ],
      "text/plain": [
       "<class 'statsmodels.iolib.table.SimpleTable'>"
      ]
     },
     "execution_count": 34,
     "metadata": {},
     "output_type": "execute_result"
    }
   ],
   "source": [
    "Smarket = pd.read_csv('Data/Smarket.csv', usecols = range(1,10))\n",
    "for x in range(0, Smarket.Direction.size):\n",
    "    if Smarket.Direction[x].lower() in ['up']:\n",
    "        Smarket.loc[x, 'Direction'] = 0\n",
    "    else:\n",
    "        Smarket.loc[x, 'Direction'] = 1\n",
    "res = smf.glm('Direction ~ Lag1 + Lag2 + Lag3 + Lag4 + Lag5 + Volume', Smarket, family=sm.families.Binomial()).fit()\n",
    "res.summary().tables[1]"
   ]
  },
  {
   "cell_type": "markdown",
   "metadata": {},
   "source": [
    "The smallest p-value here is associated with Lag1. The negative coefficient\n",
    "for this predictor suggests that if the market had a positive return yesterday,\n",
    "then it is less likely to go up today. However, at a value of 0.145, the p-value\n",
    "is still relatively large, and so there is no clear evidence of a real association between Lag1 and Direction."
   ]
  },
  {
   "cell_type": "code",
   "execution_count": 4,
   "metadata": {
    "collapsed": false
   },
   "outputs": [
    {
     "data": {
      "text/plain": [
       "Intercept   -0.126000\n",
       "Lag1        -0.073074\n",
       "Lag2        -0.042301\n",
       "Lag3         0.011085\n",
       "Lag4         0.009359\n",
       "Lag5         0.010313\n",
       "Volume       0.135441\n",
       "dtype: float64"
      ]
     },
     "execution_count": 4,
     "metadata": {},
     "output_type": "execute_result"
    }
   ],
   "source": [
    "res.params"
   ]
  },
  {
   "cell_type": "markdown",
   "metadata": {},
   "source": [
    "The predict()  function can be used to predict the probability that the market will go down, given values of the predictors."
   ]
  },
  {
   "cell_type": "code",
   "execution_count": 5,
   "metadata": {
    "collapsed": false
   },
   "outputs": [
    {
     "name": "stdout",
     "output_type": "stream",
     "text": [
      "[ 0.50708413  0.48146788  0.48113883  0.51522236  0.51078116  0.50695646\n",
      "  0.49265087  0.50922916  0.51761353  0.48883778]\n"
     ]
    }
   ],
   "source": [
    "predictions = res.predict()\n",
    "print(predictions[0:10])"
   ]
  },
  {
   "cell_type": "markdown",
   "metadata": {},
   "source": [
    "In order to make a prediction as to whether the market will go up or\n",
    "down on a particular day, we must convert these predicted probabilities\n",
    "into class labels, Up or Down. The following commands create a vector\n",
    "of class predictions based on whether the predicted probability of a market\n",
    "increase is greater than or less than 0.5. If greater than 0.5 the value is transformed to Up. If lower than 0.5 it's transformed to Down."
   ]
  },
  {
   "cell_type": "code",
   "execution_count": 6,
   "metadata": {
    "collapsed": true
   },
   "outputs": [],
   "source": [
    "predictions_nominal = [ \"Up\" if x > 0.5 else \"Down\" for x in predictions]"
   ]
  },
  {
   "cell_type": "markdown",
   "metadata": {},
   "source": [
    "A confusion matrix is made to determine how many observations were correctly or incorrectly classified."
   ]
  },
  {
   "cell_type": "code",
   "execution_count": 7,
   "metadata": {
    "collapsed": false
   },
   "outputs": [],
   "source": [
    "from sklearn.metrics import confusion_matrix, classification_report\n",
    "Smarket = pd.read_csv('Data/Smarket.csv', usecols=range(1,10))\n",
    "cm1,cm2 = confusion_matrix(Smarket[\"Direction\"], predictions_nominal)"
   ]
  },
  {
   "cell_type": "code",
   "execution_count": 8,
   "metadata": {
    "collapsed": false
   },
   "outputs": [
    {
     "name": "stdout",
     "output_type": "stream",
     "text": [
      "\tDown\tUp\n",
      "Down\t145\t141\n",
      "Up\t457\t507\n",
      "\n"
     ]
    }
   ],
   "source": [
    "temp=[]\n",
    "temp.append(\"Down\")\n",
    "temp.append(\"Up\")\n",
    "tab = pd.DataFrame(index=None)\n",
    "tab[\"\"] = temp\n",
    "tab[\"Down\"] = cm1\n",
    "tab[\"Up\"] = cm2\n",
    "print(tab.to_csv(sep='\\t', index=False))"
   ]
  },
  {
   "cell_type": "markdown",
   "metadata": {},
   "source": [
    "The diagonal elements of the confusion matrix indicate correct predictions,\n",
    "while the off-diagonals represent incorrect predictions. Hence our model\n",
    "correctly predicted that the market would go up on 507 days and that\n",
    "it would go down on 145 days, for a total of 507 + 145 = 652 correct\n",
    "predictions. The mean() function can be used to compute the fraction of\n",
    "days for which the prediction was correct. In this case, logistic regression\n",
    "correctly predicted the movement of the market 52.2% of the time."
   ]
  },
  {
   "cell_type": "code",
   "execution_count": 9,
   "metadata": {
    "collapsed": false
   },
   "outputs": [
    {
     "data": {
      "text/plain": [
       "0.5216"
      ]
     },
     "execution_count": 9,
     "metadata": {},
     "output_type": "execute_result"
    }
   ],
   "source": [
    "(507+145)/1250.0"
   ]
  },
  {
   "cell_type": "code",
   "execution_count": 10,
   "metadata": {
    "collapsed": false
   },
   "outputs": [
    {
     "name": "stdout",
     "output_type": "stream",
     "text": [
      "             precision    recall  f1-score   support\n",
      "\n",
      "       Down      0.507     0.241     0.327       602\n",
      "         Up      0.526     0.782     0.629       648\n",
      "\n",
      "avg / total      0.517     0.522     0.483      1250\n",
      "\n"
     ]
    }
   ],
   "source": [
    "print classification_report(Smarket[\"Direction\"], predictions_nominal, digits=3)"
   ]
  },
  {
   "cell_type": "markdown",
   "metadata": {},
   "source": [
    "In this case, logistic regression correctly predicted the movement of the market 52.2% of the time. At first glance, it appears that the logistic regression model is working a little better than random guessing. However, this result is misleading because we trained and tested the model on the same set of 1, 250 observations. In other words, 100− 52.2 = 47.8% is the __training error rate__.\n",
    "The training error rate is often overly optimistic — it tends to underestimate the test error rate.\n",
    "\n",
    "In order to better assess the accuracy of the logistic regression model in this setting, we can fit the model using part of the data, and then examine how well it predicts the held out data. This will yield a more realistic error rate, in the sense that in practice we will be interested in our model’s performance not on the data that we used to fit the model, but rather on days in the future for which the market’s movements are unknown.\n",
    "\n",
    "To implement this strategy, we will first create a vector corresponding to the observations from 2001 through 2004. We will then use this vector to create a held out data set of observations from 2005.\n",
    "\n",
    "We now fit a logistic regression model using only the subset of the observations that correspond to dates before 2005."
   ]
  },
  {
   "cell_type": "code",
   "execution_count": 11,
   "metadata": {
    "collapsed": false
   },
   "outputs": [],
   "source": [
    "x_train = Smarket[0:sum(Smarket.Year<2005)] # Data from 2001-2004\n",
    "model = smf.glm('Direction ~ Lag1 + Lag2 + Lag3 + Lag4 + Lag5 + Volume', data=x_train, family=sm.families.Binomial())\n",
    "result = model.fit()"
   ]
  },
  {
   "cell_type": "markdown",
   "metadata": {},
   "source": [
    "We then obtain predicted probabilities of the stock market going up for\n",
    "each of the days in our test set—that is, for the days in 2005.\n",
    "\n",
    "Notice that we have trained and tested our model on two completely separate data sets: training was performed using only the dates before 2005, and testing was performed using only the dates in 2005. Finally, we compute the predictions for 2005 and compare them to the actual movements of the market over that time period."
   ]
  },
  {
   "cell_type": "code",
   "execution_count": 12,
   "metadata": {
    "collapsed": false
   },
   "outputs": [],
   "source": [
    "x_test = Smarket[sum(Smarket.Year<2005):] # Data from 2005\n",
    "predictions = result.predict(x_test)\n",
    "predictions_nominal = [ \"Up\" if x > 0.5 else \"Down\" for x in predictions] # obs '<' \n",
    "cm1,cm2 = confusion_matrix(x_test[\"Direction\"], predictions_nominal)"
   ]
  },
  {
   "cell_type": "code",
   "execution_count": 13,
   "metadata": {
    "collapsed": false
   },
   "outputs": [
    {
     "name": "stdout",
     "output_type": "stream",
     "text": [
      "\tDown\tUp\n",
      "Down\t34\t44\n",
      "Up\t77\t97\n",
      "\n"
     ]
    }
   ],
   "source": [
    "temp=[]\n",
    "temp.append(\"Down\")\n",
    "temp.append(\"Up\")\n",
    "tab = pd.DataFrame(index=None)\n",
    "tab[\"\"] = temp\n",
    "tab[\"Down\"] = cm1\n",
    "tab[\"Up\"] = cm2\n",
    "print(tab.to_csv(sep='\\t', index=False))"
   ]
  },
  {
   "cell_type": "code",
   "execution_count": 14,
   "metadata": {
    "collapsed": false
   },
   "outputs": [
    {
     "data": {
      "text/plain": [
       "0.4801587301587302"
      ]
     },
     "execution_count": 14,
     "metadata": {},
     "output_type": "execute_result"
    }
   ],
   "source": [
    "(77+44.)/sum(cm1+cm2)"
   ]
  },
  {
   "cell_type": "code",
   "execution_count": 15,
   "metadata": {
    "collapsed": false
   },
   "outputs": [
    {
     "name": "stdout",
     "output_type": "stream",
     "text": [
      "             precision    recall  f1-score   support\n",
      "\n",
      "       Down      0.436     0.306     0.360       111\n",
      "         Up      0.557     0.688     0.616       141\n",
      "\n",
      "avg / total      0.504     0.520     0.503       252\n",
      "\n"
     ]
    }
   ],
   "source": [
    "print classification_report(x_test[\"Direction\"], predictions_nominal, digits=3)"
   ]
  },
  {
   "cell_type": "markdown",
   "metadata": {
    "collapsed": false
   },
   "source": [
    "The results are rather disappointing: the test error\n",
    "rate (1 - ${\\tt recall}$) is 52%, which is worse than random guessing! Of course this result\n",
    "is not all that surprising, given that one would not generally expect to be\n",
    "able to use previous days’ returns to predict future market performance.\n",
    "(After all, if it were possible to do so, then the authors of this book [along with your professor] would probably\n",
    "be out striking it rich rather than teaching statistics.)\n",
    "\n",
    "We recall that the logistic regression model had very underwhelming pvalues\n",
    "associated with all of the predictors, and that the smallest p-value,\n",
    "though not very small, corresponded to Lag1. Perhaps by removing the\n",
    "variables that appear not to be helpful in predicting Direction, we can\n",
    "obtain a more effective model. After all, using predictors that have no\n",
    "relationship with the response tends to cause a deterioration in the test\n",
    "error rate (since such predictors cause an increase in variance without a\n",
    "corresponding decrease in bias), and so removing such predictors may in\n",
    "turn yield an improvement. \n",
    "\n",
    "In the space below, a refit of a logistic regression using just Lag1 and Lag2, which seemed to have the highest predictive power in the original logistic regression model."
   ]
  },
  {
   "cell_type": "code",
   "execution_count": 105,
   "metadata": {
    "collapsed": true
   },
   "outputs": [],
   "source": [
    "model = smf.glm('Direction ~ Lag1 + Lag2', data=x_train, family=sm.families.Binomial())\n",
    "result = model.fit()\n",
    "predictions = result.predict(x_test)\n",
    "predictions_nominal = [ \"Up\" if x < 0.5 else \"Down\" for x in predictions] # obs '<' \n",
    "cm1,cm2 = confusion_matrix(x_test[\"Direction\"], predictions_nominal)"
   ]
  },
  {
   "cell_type": "code",
   "execution_count": 19,
   "metadata": {
    "collapsed": false
   },
   "outputs": [
    {
     "name": "stdout",
     "output_type": "stream",
     "text": [
      "\tDown\tUp\n",
      "Down\t35\t35\n",
      "Up\t76\t106\n",
      "\n"
     ]
    }
   ],
   "source": [
    "temp=[]\n",
    "temp.append(\"Down\")\n",
    "temp.append(\"Up\")\n",
    "tab = pd.DataFrame(index=None)\n",
    "tab[\"\"] = temp\n",
    "tab[\"Down\"] = cm1\n",
    "tab[\"Up\"] = cm2\n",
    "print(tab.to_csv(sep='\\t', index=False))"
   ]
  },
  {
   "cell_type": "code",
   "execution_count": 20,
   "metadata": {
    "collapsed": false
   },
   "outputs": [
    {
     "data": {
      "text/plain": [
       "0.5595238095238095"
      ]
     },
     "execution_count": 20,
     "metadata": {},
     "output_type": "execute_result"
    }
   ],
   "source": [
    "(106+35.)/sum(cm1+cm2)"
   ]
  },
  {
   "cell_type": "code",
   "execution_count": 21,
   "metadata": {
    "collapsed": false
   },
   "outputs": [
    {
     "name": "stdout",
     "output_type": "stream",
     "text": [
      "             precision    recall  f1-score   support\n",
      "\n",
      "       Down      0.500     0.315     0.387       111\n",
      "         Up      0.582     0.752     0.656       141\n",
      "\n",
      "avg / total      0.546     0.560     0.538       252\n",
      "\n"
     ]
    }
   ],
   "source": [
    "print classification_report(x_test[\"Direction\"], predictions_nominal, digits=3)"
   ]
  },
  {
   "cell_type": "markdown",
   "metadata": {},
   "source": [
    "Now the results appear to be more promising: 56% of the daily movements\n",
    "have been correctly predicted. The confusion matrix suggests that on days\n",
    "when logistic regression predicts that the market will decline, it is only\n",
    "correct 50% (35/(35+35)) of the time. However, on days when it predicts an increase in\n",
    "the market, it has a 58 % (106/(76+106) accuracy rate.\n",
    "\n",
    "This suggests a possible trading strategy of buying on days when the model predicts an increasing market, and avoiding trades on days when a decrease is predicted. Of course one would need to investigate more carefully whether this small improvement was real or just due to random chance.\n",
    "\n",
    "Predict a Direction on a day when Lag1 and Lag2 equal 1.2 and 1.1, respectively, and on a day when they equal 1.5 and −0.8."
   ]
  },
  {
   "cell_type": "code",
   "execution_count": 106,
   "metadata": {
    "collapsed": false
   },
   "outputs": [
    {
     "name": "stdout",
     "output_type": "stream",
     "text": [
      "[ 0.52085376  0.50390613]\n"
     ]
    }
   ],
   "source": [
    "print result.predict(pd.DataFrame([[1.2,1.1],[1.5,-0.8]], columns = [\"Lag1\",\"Lag2\"]))"
   ]
  },
  {
   "cell_type": "code",
   "execution_count": 108,
   "metadata": {
    "collapsed": false
   },
   "outputs": [
    {
     "data": {
      "text/plain": [
       "0.47914623999999995"
      ]
     },
     "execution_count": 108,
     "metadata": {},
     "output_type": "execute_result"
    }
   ],
   "source": [
    "1-0.52085376"
   ]
  },
  {
   "cell_type": "code",
   "execution_count": 109,
   "metadata": {
    "collapsed": false
   },
   "outputs": [
    {
     "data": {
      "text/plain": [
       "0.49609387000000005"
      ]
     },
     "execution_count": 109,
     "metadata": {},
     "output_type": "execute_result"
    }
   ],
   "source": [
    "1-0.50390613"
   ]
  }
 ],
 "metadata": {
  "anaconda-cloud": {},
  "kernelspec": {
   "display_name": "Python [default]",
   "language": "python",
   "name": "python2"
  },
  "language_info": {
   "codemirror_mode": {
    "name": "ipython",
    "version": 2
   },
   "file_extension": ".py",
   "mimetype": "text/x-python",
   "name": "python",
   "nbconvert_exporter": "python",
   "pygments_lexer": "ipython2",
   "version": "2.7.12"
  }
 },
 "nbformat": 4,
 "nbformat_minor": 1
}
